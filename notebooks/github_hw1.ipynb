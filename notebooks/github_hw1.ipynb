{
 "cells": [
  {
   "cell_type": "markdown",
   "metadata": {},
   "source": [
    "# Домашнее задание\n",
    "Домашнее задание выполнять в этой тетрадке. \n",
    "\n",
    "- [ ] Сделать fork репозитория cvr_cource (https://github.com/StarkitRobots/cvr_course) - 1 балл\n",
    "- [ ] Создать ветку update_readme - 1 балл\n",
    "- [ ] Добавить одну строчку в README.md \n",
    "- [ ] Запушить (git push) изменения в ветку update_readme - 3 балла\n",
    "- [ ] Слить (merge) ветку update_readme в ветку develop - 1 балл\n",
    "- [ ] Сохранить эту тетрадку с выполненной домашкой себе в репозиторий в ветку develop - 3 балла\n",
    "- [ ] Слить (merge) ветку develop в ветку main - 1 балл"
   ]
  },
  {
   "cell_type": "markdown",
   "metadata": {},
   "source": [
    "Материалы к семинару:\n",
    "1. [Удачная модель ветвления](https://m.habr.com/ru/post/106912/)\n",
    "2. [Зачем нужен Git](https://guides.hexlet.io/git-guide/)\n",
    "3. [Самые популярные ошибки и их решения](https://tproger.ru/translations/most-common-git-screwupsquestions-and-solutions/)\n",
    "4. [Ветвление](https://git-scm.com/book/ru/v2/%D0%92%D0%B5%D1%82%D0%B2%D0%BB%D0%B5%D0%BD%D0%B8%D0%B5-%D0%B2-Git-%D0%9E-%D0%B2%D0%B5%D1%82%D0%B2%D0%BB%D0%B5%D0%BD%D0%B8%D0%B8-%D0%B2-%D0%B4%D0%B2%D1%83%D1%85-%D1%81%D0%BB%D0%BE%D0%B2%D0%B0%D1%85)\n",
    "5. [Инструкция по всему Git](https://git-scm.com/book/ru/v2)\n",
    "6. [Приложение для обучения Git](https://learngitbranching.js.org/?locale=ru_RU), спасибо Анне Касаткиной за ссылку на отличный материал"
   ]
  },
  {
   "cell_type": "code",
   "execution_count": 3,
   "metadata": {},
   "outputs": [],
   "source": [
    "!git branch update_readme"
   ]
  },
  {
   "cell_type": "code",
   "execution_count": 4,
   "metadata": {},
   "outputs": [
    {
     "output_type": "stream",
     "name": "stdout",
     "text": [
      "M\tnotebooks/github_hw1.ipynb\nSwitched to branch 'update_readme'\n"
     ]
    }
   ],
   "source": [
    "!git checkout update_readme"
   ]
  },
  {
   "cell_type": "code",
   "execution_count": 5,
   "metadata": {},
   "outputs": [],
   "source": [
    "!echo \"homework line \" >> ../README.md"
   ]
  },
  {
   "cell_type": "code",
   "execution_count": 7,
   "metadata": {},
   "outputs": [],
   "source": [
    "!git add ../README.md"
   ]
  },
  {
   "cell_type": "code",
   "execution_count": 8,
   "metadata": {},
   "outputs": [
    {
     "output_type": "stream",
     "name": "stdout",
     "text": [
      "[update_readme 4b3ade2] add homework line in README.md\n 1 file changed, 1 insertion(+)\n"
     ]
    }
   ],
   "source": [
    "!git commit -m \"add homework line in README.md\""
   ]
  },
  {
   "cell_type": "code",
   "execution_count": 11,
   "metadata": {},
   "outputs": [
    {
     "output_type": "stream",
     "name": "stdout",
     "text": [
      "Enumerating objects: 5, done.\n",
      "Counting objects: 100% (5/5), done.\n",
      "Delta compression using up to 8 threads\n",
      "Compressing objects: 100% (3/3), done.\n",
      "Writing objects: 100% (3/3), 321 bytes | 321.00 KiB/s, done.\n",
      "Total 3 (delta 2), reused 0 (delta 0)\n",
      "remote: Resolving deltas: 100% (2/2), completed with 2 local objects.\u001b[K\n",
      "remote: \n",
      "remote: Create a pull request for 'update_readme' on GitHub by visiting:\u001b[K\n",
      "remote:      https://github.com/Tenfleques/cvr_course/pull/new/update_readme\u001b[K\n",
      "remote: \n",
      "To github.com:Tenfleques/cvr_course.git\n",
      " * [new branch]      update_readme -> update_readme\n",
      "Branch 'update_readme' set up to track remote branch 'update_readme' from 'origin'.\n"
     ]
    }
   ],
   "source": [
    "!git push --set-upstream origin update_readme"
   ]
  },
  {
   "cell_type": "code",
   "execution_count": 13,
   "metadata": {
    "tags": [
     "outputPrepend"
    ]
   },
   "outputs": [
    {
     "output_type": "stream",
     "name": "stdout",
     "text": [
      "\u001b[32m110275\u001b[m bytes\n",
      " data/imgs/calibrationdata/right-0013.png           |   Bin \u001b[31m0\u001b[m -> \u001b[32m108122\u001b[m bytes\n",
      " data/imgs/calibrationdata/right-0014.png           |   Bin \u001b[31m0\u001b[m -> \u001b[32m110135\u001b[m bytes\n",
      " data/imgs/calibrationdata/right-0015.png           |   Bin \u001b[31m0\u001b[m -> \u001b[32m111730\u001b[m bytes\n",
      " data/imgs/calibrationdata/right-0016.png           |   Bin \u001b[31m0\u001b[m -> \u001b[32m114028\u001b[m bytes\n",
      " data/imgs/calibrationdata/right-0017.png           |   Bin \u001b[31m0\u001b[m -> \u001b[32m109004\u001b[m bytes\n",
      " data/imgs/calibrationdata/right-0018.png           |   Bin \u001b[31m0\u001b[m -> \u001b[32m115402\u001b[m bytes\n",
      " data/imgs/calibrationdata/right-0019.png           |   Bin \u001b[31m0\u001b[m -> \u001b[32m125613\u001b[m bytes\n",
      " data/imgs/calibrationdata/right-0020.png           |   Bin \u001b[31m0\u001b[m -> \u001b[32m129118\u001b[m bytes\n",
      " data/imgs/calibrationdata/right-0021.png           |   Bin \u001b[31m0\u001b[m -> \u001b[32m126820\u001b[m bytes\n",
      " data/imgs/calibrationdata/right-0022.png           |   Bin \u001b[31m0\u001b[m -> \u001b[32m125376\u001b[m bytes\n",
      " data/imgs/calibrationdata/right-0023.png           |   Bin \u001b[31m0\u001b[m -> \u001b[32m122389\u001b[m bytes\n",
      " data/imgs/calibrationdata/right-0024.png           |   Bin \u001b[31m0\u001b[m -> \u001b[32m120899\u001b[m bytes\n",
      " data/imgs/calibrationdata/right-0025.png           |   Bin \u001b[31m0\u001b[m -> \u001b[32m125639\u001b[m bytes\n",
      " data/imgs/calibrationdata/right-0026.png           |   Bin \u001b[31m0\u001b[m -> \u001b[32m126691\u001b[m bytes\n",
      " data/imgs/calibrationdata/right-0027.png           |   Bin \u001b[31m0\u001b[m -> \u001b[32m130214\u001b[m bytes\n",
      " data/imgs/calibrationdata/right-0028.png           |   Bin \u001b[31m0\u001b[m -> \u001b[32m137940\u001b[m bytes\n",
      " data/imgs/calibrationdata/right-0029.png           |   Bin \u001b[31m0\u001b[m -> \u001b[32m130779\u001b[m bytes\n",
      " data/imgs/calibrationdata/right-0030.png           |   Bin \u001b[31m0\u001b[m -> \u001b[32m130377\u001b[m bytes\n",
      " data/imgs/calibrationdata/right-0031.png           |   Bin \u001b[31m0\u001b[m -> \u001b[32m133930\u001b[m bytes\n",
      " data/imgs/calibrationdata/right-0032.png           |   Bin \u001b[31m0\u001b[m -> \u001b[32m131570\u001b[m bytes\n",
      " data/imgs/calibrationdata/right-0033.png           |   Bin \u001b[31m0\u001b[m -> \u001b[32m138973\u001b[m bytes\n",
      " data/imgs/calibrationdata/right-0034.png           |   Bin \u001b[31m0\u001b[m -> \u001b[32m139777\u001b[m bytes\n",
      " data/imgs/calibrationdata/right-0035.png           |   Bin \u001b[31m0\u001b[m -> \u001b[32m138862\u001b[m bytes\n",
      " data/imgs/calibrationdata/right-0036.png           |   Bin \u001b[31m0\u001b[m -> \u001b[32m141720\u001b[m bytes\n",
      " data/imgs/calibrationdata/right-0037.png           |   Bin \u001b[31m0\u001b[m -> \u001b[32m125744\u001b[m bytes\n",
      " data/imgs/calibrationdata/right-0038.png           |   Bin \u001b[31m0\u001b[m -> \u001b[32m114764\u001b[m bytes\n",
      " data/imgs/calibrationdata/right-0039.png           |   Bin \u001b[31m0\u001b[m -> \u001b[32m111783\u001b[m bytes\n",
      " data/imgs/calibrationdata/right-0040.png           |   Bin \u001b[31m0\u001b[m -> \u001b[32m113085\u001b[m bytes\n",
      " data/imgs/calibrationdata/right-0041.png           |   Bin \u001b[31m0\u001b[m -> \u001b[32m114765\u001b[m bytes\n",
      " data/imgs/calibrationdata/right-0042.png           |   Bin \u001b[31m0\u001b[m -> \u001b[32m133413\u001b[m bytes\n",
      " data/imgs/calibrationdata/right-0043.png           |   Bin \u001b[31m0\u001b[m -> \u001b[32m133440\u001b[m bytes\n",
      " data/imgs/calibrationdata/right-0044.png           |   Bin \u001b[31m0\u001b[m -> \u001b[32m138617\u001b[m bytes\n",
      " data/imgs/calibrationdata/right-0045.png           |   Bin \u001b[31m0\u001b[m -> \u001b[32m142794\u001b[m bytes\n",
      " data/imgs/calibrationdata/right-0046.png           |   Bin \u001b[31m0\u001b[m -> \u001b[32m142960\u001b[m bytes\n",
      " data/imgs/calibrationdata/right-0047.png           |   Bin \u001b[31m0\u001b[m -> \u001b[32m132822\u001b[m bytes\n",
      " data/imgs/calibrationdata/right-0048.png           |   Bin \u001b[31m0\u001b[m -> \u001b[32m128645\u001b[m bytes\n",
      " data/imgs/calibrationdata/right-0049.png           |   Bin \u001b[31m0\u001b[m -> \u001b[32m122420\u001b[m bytes\n",
      " data/imgs/calibrationdata/right-0050.png           |   Bin \u001b[31m0\u001b[m -> \u001b[32m109582\u001b[m bytes\n",
      " data/imgs/calibrationdata/right-0051.png           |   Bin \u001b[31m0\u001b[m -> \u001b[32m129554\u001b[m bytes\n",
      " data/imgs/calibrationdata/right-0052.png           |   Bin \u001b[31m0\u001b[m -> \u001b[32m120818\u001b[m bytes\n",
      " data/imgs/calibrationdata/right-0053.png           |   Bin \u001b[31m0\u001b[m -> \u001b[32m114488\u001b[m bytes\n",
      " data/imgs/calibrationdata/right-0054.png           |   Bin \u001b[31m0\u001b[m -> \u001b[32m116295\u001b[m bytes\n",
      " data/imgs/calibrationdata/right-0055.png           |   Bin \u001b[31m0\u001b[m -> \u001b[32m116759\u001b[m bytes\n",
      " data/imgs/calibrationdata/right-0056.png           |   Bin \u001b[31m0\u001b[m -> \u001b[32m119349\u001b[m bytes\n",
      " data/imgs/calibrationdata/right-0057.png           |   Bin \u001b[31m0\u001b[m -> \u001b[32m122425\u001b[m bytes\n",
      " data/imgs/calibrationdata/right-0058.png           |   Bin \u001b[31m0\u001b[m -> \u001b[32m124987\u001b[m bytes\n",
      " data/imgs/calibrationdata/right-0059.png           |   Bin \u001b[31m0\u001b[m -> \u001b[32m125291\u001b[m bytes\n",
      " data/imgs/calibrationdata/right-0060.png           |   Bin \u001b[31m0\u001b[m -> \u001b[32m128124\u001b[m bytes\n",
      " data/imgs/calibrationdata/right-0061.png           |   Bin \u001b[31m0\u001b[m -> \u001b[32m127123\u001b[m bytes\n",
      " data/imgs/calibrationdata/right-0062.png           |   Bin \u001b[31m0\u001b[m -> \u001b[32m133945\u001b[m bytes\n",
      " data/imgs/calibrationdata/right-0063.png           |   Bin \u001b[31m0\u001b[m -> \u001b[32m132417\u001b[m bytes\n",
      " data/imgs/calibrationdata/right-0064.png           |   Bin \u001b[31m0\u001b[m -> \u001b[32m131101\u001b[m bytes\n",
      " data/imgs/calibrationdata/right-0065.png           |   Bin \u001b[31m0\u001b[m -> \u001b[32m134945\u001b[m bytes\n",
      " data/imgs/calibrationdata/right-0066.png           |   Bin \u001b[31m0\u001b[m -> \u001b[32m135285\u001b[m bytes\n",
      " data/imgs/calibrationdata/right.yaml               |    26 \u001b[32m+\u001b[m\n",
      " data/imgs/stereopairs/sp1.jpg                      |   Bin \u001b[31m0\u001b[m -> \u001b[32m275937\u001b[m bytes\n",
      " data/imgs/stereopairs/sp2.jpg                      |   Bin \u001b[31m0\u001b[m -> \u001b[32m303457\u001b[m bytes\n",
      " data/imgs/stereopairs/sp3.jpg                      |   Bin \u001b[31m0\u001b[m -> \u001b[32m280814\u001b[m bytes\n",
      " notebooks/arch_sem1.ipynb                          |   359 \u001b[32m+\u001b[m\n",
      " notebooks/cv_hw3.ipynb                             |    51 \u001b[32m+\u001b[m\n",
      " notebooks/cv_hw4.ipynb                             |    43 \u001b[32m+\u001b[m\n",
      " notebooks/cv_hw5.ipynb                             |    68 \u001b[32m+\u001b[m\n",
      " notebooks/cv_sem3.ipynb                            |   679 \u001b[32m+\u001b[m\u001b[31m-\u001b[m\n",
      " notebooks/cv_sem4.ipynb                            |  1239 \u001b[32m+\u001b[m\n",
      " notebooks/nn_sem5_pt1.ipynb                        |  1273 \u001b[32m+\u001b[m\n",
      " notebooks/nn_sem5_pt2_hw5.ipynb                    |   819 \u001b[32m+\u001b[m\n",
      " notebooks/out_file.npz                             |   Bin \u001b[31m0\u001b[m -> \u001b[32m2239\u001b[m bytes\n",
      " notebooks/pyntcloud_plot.config.json               |     1 \u001b[32m+\u001b[m\n",
      " notebooks/pyntcloud_plot.html                      |   239 \u001b[32m+\u001b[m\n",
      " notebooks/pyntcloud_plot.ply                       |    94 \u001b[32m+\u001b[m\n",
      " notebooks/pyntcloud_plot_assets/Detector.js        |    78 \u001b[32m+\u001b[m\n",
      " notebooks/pyntcloud_plot_assets/OrbitControls.js   |  1040 \u001b[32m+\u001b[m\n",
      " notebooks/pyntcloud_plot_assets/PLYLoader.js       |   501 \u001b[32m+\u001b[m\n",
      " notebooks/pyntcloud_plot_assets/ball.png           |   Bin \u001b[31m0\u001b[m -> \u001b[32m3983\u001b[m bytes\n",
      " notebooks/pyntcloud_plot_assets/circle.png         |   Bin \u001b[31m0\u001b[m -> \u001b[32m4785\u001b[m bytes\n",
      " notebooks/pyntcloud_plot_assets/dat.gui.min.js     |     2 \u001b[32m+\u001b[m\n",
      " notebooks/pyntcloud_plot_assets/disc.png           |   Bin \u001b[31m0\u001b[m -> \u001b[32m1399\u001b[m bytes\n",
      " notebooks/pyntcloud_plot_assets/jquery.min.js      |     4 \u001b[32m+\u001b[m\n",
      " notebooks/pyntcloud_plot_assets/pyntcloud_logo.png |   Bin \u001b[31m0\u001b[m -> \u001b[32m73932\u001b[m bytes\n",
      " .../pyntcloud_plot_assets/pyntcloud_sprite.png     |   Bin \u001b[31m0\u001b[m -> \u001b[32m13598\u001b[m bytes\n",
      " notebooks/pyntcloud_plot_assets/python_logo.png    |   Bin \u001b[31m0\u001b[m -> \u001b[32m2180\u001b[m bytes\n",
      " notebooks/pyntcloud_plot_assets/stats.min.js       |     5 \u001b[32m+\u001b[m\n",
      " notebooks/pyntcloud_plot_assets/three.min.js       |   865 \u001b[32m+\u001b[m\n",
      " notebooks/reconstructed.ply                        | 35523 \u001b[32m+++++++++++++++++++\u001b[m\n",
      " notebooks/slam_sem1.ipynb                          |   414 \u001b[32m+\u001b[m\n",
      " notebooks/stereo_calibration                       |     1 \u001b[32m+\u001b[m\n",
      " presentations/cv_sem2.pdf                          |   Bin \u001b[31m0\u001b[m -> \u001b[32m5975179\u001b[m bytes\n",
      " presentations/nn_inside.pdf                        |   Bin \u001b[31m0\u001b[m -> \u001b[32m1742599\u001b[m bytes\n",
      " presentations/nn_intro.pdf                         |   Bin \u001b[31m0\u001b[m -> \u001b[32m6698294\u001b[m bytes\n",
      " presentations/nn_training.pdf                      |   Bin \u001b[31m0\u001b[m -> \u001b[32m3769273\u001b[m bytes\n",
      " 202 files changed, 43045 insertions(+), 478 deletions(-)\n",
      " create mode 100644 data/imgs/arrow/vlcsnap-2020-10-21-18h01m22s212.png\n",
      " create mode 100644 data/imgs/arrow/vlcsnap-2020-10-21-18h01m27s294.png\n",
      " create mode 100644 data/imgs/arrow/vlcsnap-2020-10-21-18h01m29s941.png\n",
      " create mode 100644 data/imgs/arrow/vlcsnap-2020-10-21-18h01m33s362.png\n",
      " create mode 100644 data/imgs/arrow/vlcsnap-2020-10-21-18h01m36s056.png\n",
      " create mode 100644 data/imgs/arrow/vlcsnap-2020-10-21-18h01m41s874.png\n",
      " create mode 100644 data/imgs/arrow/vlcsnap-2020-10-21-18h01m44s163.png\n",
      " create mode 100644 data/imgs/arrow/vlcsnap-2020-10-21-18h01m46s644.png\n",
      " create mode 100644 data/imgs/arrow/vlcsnap-2020-10-21-18h01m49s487.png\n",
      " create mode 100644 data/imgs/arrow/vlcsnap-2020-10-21-18h01m51s638.png\n",
      " create mode 100644 data/imgs/calibrationdat/left-0000.png\n",
      " create mode 100644 data/imgs/calibrationdat/left-0001.png\n",
      " create mode 100644 data/imgs/calibrationdat/left-0002.png\n",
      " create mode 100644 data/imgs/calibrationdat/left-0003.png\n",
      " create mode 100644 data/imgs/calibrationdat/left-0004.png\n",
      " create mode 100644 data/imgs/calibrationdat/left-0005.png\n",
      " create mode 100644 data/imgs/calibrationdat/left-0006.png\n",
      " create mode 100644 data/imgs/calibrationdat/left-0007.png\n",
      " create mode 100644 data/imgs/calibrationdat/left.yaml\n",
      " create mode 100644 data/imgs/calibrationdat/ost.txt\n",
      " create mode 100644 data/imgs/calibrationdat/right-0000.png\n",
      " create mode 100644 data/imgs/calibrationdat/right-0001.png\n",
      " create mode 100644 data/imgs/calibrationdat/right-0002.png\n",
      " create mode 100644 data/imgs/calibrationdat/right-0003.png\n",
      " create mode 100644 data/imgs/calibrationdat/right-0004.png\n",
      " create mode 100644 data/imgs/calibrationdat/right-0005.png\n",
      " create mode 100644 data/imgs/calibrationdat/right-0006.png\n",
      " create mode 100644 data/imgs/calibrationdat/right-0007.png\n",
      " create mode 100644 data/imgs/calibrationdat/right.yaml\n",
      " create mode 100644 data/imgs/calibrationdata/left-0000.png\n",
      " create mode 100644 data/imgs/calibrationdata/left-0001.png\n",
      " create mode 100644 data/imgs/calibrationdata/left-0002.png\n",
      " create mode 100644 data/imgs/calibrationdata/left-0003.png\n",
      " create mode 100644 data/imgs/calibrationdata/left-0004.png\n",
      " create mode 100644 data/imgs/calibrationdata/left-0005.png\n",
      " create mode 100644 data/imgs/calibrationdata/left-0006.png\n",
      " create mode 100644 data/imgs/calibrationdata/left-0007.png\n",
      " create mode 100644 data/imgs/calibrationdata/left-0008.png\n",
      " create mode 100644 data/imgs/calibrationdata/left-0009.png\n",
      " create mode 100644 data/imgs/calibrationdata/left-0010.png\n",
      " create mode 100644 data/imgs/calibrationdata/left-0011.png\n",
      " create mode 100644 data/imgs/calibrationdata/left-0012.png\n",
      " create mode 100644 data/imgs/calibrationdata/left-0013.png\n",
      " create mode 100644 data/imgs/calibrationdata/left-0014.png\n",
      " create mode 100644 data/imgs/calibrationdata/left-0015.png\n",
      " create mode 100644 data/imgs/calibrationdata/left-0016.png\n",
      " create mode 100644 data/imgs/calibrationdata/left-0017.png\n",
      " create mode 100644 data/imgs/calibrationdata/left-0018.png\n",
      " create mode 100644 data/imgs/calibrationdata/left-0019.png\n",
      " create mode 100644 data/imgs/calibrationdata/left-0020.png\n",
      " create mode 100644 data/imgs/calibrationdata/left-0021.png\n",
      " create mode 100644 data/imgs/calibrationdata/left-0022.png\n",
      " create mode 100644 data/imgs/calibrationdata/left-0023.png\n",
      " create mode 100644 data/imgs/calibrationdata/left-0024.png\n",
      " create mode 100644 data/imgs/calibrationdata/left-0025.png\n",
      " create mode 100644 data/imgs/calibrationdata/left-0026.png\n",
      " create mode 100644 data/imgs/calibrationdata/left-0027.png\n",
      " create mode 100644 data/imgs/calibrationdata/left-0028.png\n",
      " create mode 100644 data/imgs/calibrationdata/left-0029.png\n",
      " create mode 100644 data/imgs/calibrationdata/left-0030.png\n",
      " create mode 100644 data/imgs/calibrationdata/left-0031.png\n",
      " create mode 100644 data/imgs/calibrationdata/left-0032.png\n",
      " create mode 100644 data/imgs/calibrationdata/left-0033.png\n",
      " create mode 100644 data/imgs/calibrationdata/left-0034.png\n",
      " create mode 100644 data/imgs/calibrationdata/left-0035.png\n",
      " create mode 100644 data/imgs/calibrationdata/left-0036.png\n",
      " create mode 100644 data/imgs/calibrationdata/left-0037.png\n",
      " create mode 100644 data/imgs/calibrationdata/left-0038.png\n",
      " create mode 100644 data/imgs/calibrationdata/left-0039.png\n",
      " create mode 100644 data/imgs/calibrationdata/left-0040.png\n",
      " create mode 100644 data/imgs/calibrationdata/left-0041.png\n",
      " create mode 100644 data/imgs/calibrationdata/left-0042.png\n",
      " create mode 100644 data/imgs/calibrationdata/left-0043.png\n",
      " create mode 100644 data/imgs/calibrationdata/left-0044.png\n",
      " create mode 100644 data/imgs/calibrationdata/left-0045.png\n",
      " create mode 100644 data/imgs/calibrationdata/left-0046.png\n",
      " create mode 100644 data/imgs/calibrationdata/left-0047.png\n",
      " create mode 100644 data/imgs/calibrationdata/left-0048.png\n",
      " create mode 100644 data/imgs/calibrationdata/left-0049.png\n",
      " create mode 100644 data/imgs/calibrationdata/left-0050.png\n",
      " create mode 100644 data/imgs/calibrationdata/left-0051.png\n",
      " create mode 100644 data/imgs/calibrationdata/left-0052.png\n",
      " create mode 100644 data/imgs/calibrationdata/left-0053.png\n",
      " create mode 100644 data/imgs/calibrationdata/left-0054.png\n",
      " create mode 100644 data/imgs/calibrationdata/left-0055.png\n",
      " create mode 100644 data/imgs/calibrationdata/left-0056.png\n",
      " create mode 100644 data/imgs/calibrationdata/left-0057.png\n",
      " create mode 100644 data/imgs/calibrationdata/left-0058.png\n",
      " create mode 100644 data/imgs/calibrationdata/left-0059.png\n",
      " create mode 100644 data/imgs/calibrationdata/left-0060.png\n",
      " create mode 100644 data/imgs/calibrationdata/left-0061.png\n",
      " create mode 100644 data/imgs/calibrationdata/left-0062.png\n",
      " create mode 100644 data/imgs/calibrationdata/left-0063.png\n",
      " create mode 100644 data/imgs/calibrationdata/left-0064.png\n",
      " create mode 100644 data/imgs/calibrationdata/left-0065.png\n",
      " create mode 100644 data/imgs/calibrationdata/left-0066.png\n",
      " create mode 100644 data/imgs/calibrationdata/left.yaml\n",
      " create mode 100644 data/imgs/calibrationdata/ost.txt\n",
      " create mode 100644 data/imgs/calibrationdata/right-0000.png\n",
      " create mode 100644 data/imgs/calibrationdata/right-0001.png\n",
      " create mode 100644 data/imgs/calibrationdata/right-0002.png\n",
      " create mode 100644 data/imgs/calibrationdata/right-0003.png\n",
      " create mode 100644 data/imgs/calibrationdata/right-0004.png\n",
      " create mode 100644 data/imgs/calibrationdata/right-0005.png\n",
      " create mode 100644 data/imgs/calibrationdata/right-0006.png\n",
      " create mode 100644 data/imgs/calibrationdata/right-0007.png\n",
      " create mode 100644 data/imgs/calibrationdata/right-0008.png\n",
      " create mode 100644 data/imgs/calibrationdata/right-0009.png\n",
      " create mode 100644 data/imgs/calibrationdata/right-0010.png\n",
      " create mode 100644 data/imgs/calibrationdata/right-0011.png\n",
      " create mode 100644 data/imgs/calibrationdata/right-0012.png\n",
      " create mode 100644 data/imgs/calibrationdata/right-0013.png\n",
      " create mode 100644 data/imgs/calibrationdata/right-0014.png\n",
      " create mode 100644 data/imgs/calibrationdata/right-0015.png\n",
      " create mode 100644 data/imgs/calibrationdata/right-0016.png\n",
      " create mode 100644 data/imgs/calibrationdata/right-0017.png\n",
      " create mode 100644 data/imgs/calibrationdata/right-0018.png\n",
      " create mode 100644 data/imgs/calibrationdata/right-0019.png\n",
      " create mode 100644 data/imgs/calibrationdata/right-0020.png\n",
      " create mode 100644 data/imgs/calibrationdata/right-0021.png\n",
      " create mode 100644 data/imgs/calibrationdata/right-0022.png\n",
      " create mode 100644 data/imgs/calibrationdata/right-0023.png\n",
      " create mode 100644 data/imgs/calibrationdata/right-0024.png\n",
      " create mode 100644 data/imgs/calibrationdata/right-0025.png\n",
      " create mode 100644 data/imgs/calibrationdata/right-0026.png\n",
      " create mode 100644 data/imgs/calibrationdata/right-0027.png\n",
      " create mode 100644 data/imgs/calibrationdata/right-0028.png\n",
      " create mode 100644 data/imgs/calibrationdata/right-0029.png\n",
      " create mode 100644 data/imgs/calibrationdata/right-0030.png\n",
      " create mode 100644 data/imgs/calibrationdata/right-0031.png\n",
      " create mode 100644 data/imgs/calibrationdata/right-0032.png\n",
      " create mode 100644 data/imgs/calibrationdata/right-0033.png\n",
      " create mode 100644 data/imgs/calibrationdata/right-0034.png\n",
      " create mode 100644 data/imgs/calibrationdata/right-0035.png\n",
      " create mode 100644 data/imgs/calibrationdata/right-0036.png\n",
      " create mode 100644 data/imgs/calibrationdata/right-0037.png\n",
      " create mode 100644 data/imgs/calibrationdata/right-0038.png\n",
      " create mode 100644 data/imgs/calibrationdata/right-0039.png\n",
      " create mode 100644 data/imgs/calibrationdata/right-0040.png\n",
      " create mode 100644 data/imgs/calibrationdata/right-0041.png\n",
      " create mode 100644 data/imgs/calibrationdata/right-0042.png\n",
      " create mode 100644 data/imgs/calibrationdata/right-0043.png\n",
      " create mode 100644 data/imgs/calibrationdata/right-0044.png\n",
      " create mode 100644 data/imgs/calibrationdata/right-0045.png\n",
      " create mode 100644 data/imgs/calibrationdata/right-0046.png\n",
      " create mode 100644 data/imgs/calibrationdata/right-0047.png\n",
      " create mode 100644 data/imgs/calibrationdata/right-0048.png\n",
      " create mode 100644 data/imgs/calibrationdata/right-0049.png\n",
      " create mode 100644 data/imgs/calibrationdata/right-0050.png\n",
      " create mode 100644 data/imgs/calibrationdata/right-0051.png\n",
      " create mode 100644 data/imgs/calibrationdata/right-0052.png\n",
      " create mode 100644 data/imgs/calibrationdata/right-0053.png\n",
      " create mode 100644 data/imgs/calibrationdata/right-0054.png\n",
      " create mode 100644 data/imgs/calibrationdata/right-0055.png\n",
      " create mode 100644 data/imgs/calibrationdata/right-0056.png\n",
      " create mode 100644 data/imgs/calibrationdata/right-0057.png\n",
      " create mode 100644 data/imgs/calibrationdata/right-0058.png\n",
      " create mode 100644 data/imgs/calibrationdata/right-0059.png\n",
      " create mode 100644 data/imgs/calibrationdata/right-0060.png\n",
      " create mode 100644 data/imgs/calibrationdata/right-0061.png\n",
      " create mode 100644 data/imgs/calibrationdata/right-0062.png\n",
      " create mode 100644 data/imgs/calibrationdata/right-0063.png\n",
      " create mode 100644 data/imgs/calibrationdata/right-0064.png\n",
      " create mode 100644 data/imgs/calibrationdata/right-0065.png\n",
      " create mode 100644 data/imgs/calibrationdata/right-0066.png\n",
      " create mode 100644 data/imgs/calibrationdata/right.yaml\n",
      " create mode 100644 data/imgs/stereopairs/sp1.jpg\n",
      " create mode 100644 data/imgs/stereopairs/sp2.jpg\n",
      " create mode 100644 data/imgs/stereopairs/sp3.jpg\n",
      " create mode 100644 notebooks/arch_sem1.ipynb\n",
      " create mode 100644 notebooks/cv_hw3.ipynb\n",
      " create mode 100644 notebooks/cv_hw4.ipynb\n",
      " create mode 100644 notebooks/cv_hw5.ipynb\n",
      " create mode 100644 notebooks/cv_sem4.ipynb\n",
      " create mode 100644 notebooks/nn_sem5_pt1.ipynb\n",
      " create mode 100644 notebooks/nn_sem5_pt2_hw5.ipynb\n",
      " create mode 100644 notebooks/out_file.npz\n",
      " create mode 100644 notebooks/pyntcloud_plot.config.json\n",
      " create mode 100644 notebooks/pyntcloud_plot.html\n",
      " create mode 100644 notebooks/pyntcloud_plot.ply\n",
      " create mode 100644 notebooks/pyntcloud_plot_assets/Detector.js\n",
      " create mode 100644 notebooks/pyntcloud_plot_assets/OrbitControls.js\n",
      " create mode 100644 notebooks/pyntcloud_plot_assets/PLYLoader.js\n",
      " create mode 100644 notebooks/pyntcloud_plot_assets/ball.png\n",
      " create mode 100644 notebooks/pyntcloud_plot_assets/circle.png\n",
      " create mode 100644 notebooks/pyntcloud_plot_assets/dat.gui.min.js\n",
      " create mode 100644 notebooks/pyntcloud_plot_assets/disc.png\n",
      " create mode 100644 notebooks/pyntcloud_plot_assets/jquery.min.js\n",
      " create mode 100644 notebooks/pyntcloud_plot_assets/pyntcloud_logo.png\n",
      " create mode 100644 notebooks/pyntcloud_plot_assets/pyntcloud_sprite.png\n",
      " create mode 100644 notebooks/pyntcloud_plot_assets/python_logo.png\n",
      " create mode 100644 notebooks/pyntcloud_plot_assets/stats.min.js\n",
      " create mode 100644 notebooks/pyntcloud_plot_assets/three.min.js\n",
      " create mode 100644 notebooks/reconstructed.ply\n",
      " create mode 100644 notebooks/slam_sem1.ipynb\n",
      " create mode 160000 notebooks/stereo_calibration\n",
      " create mode 100644 presentations/cv_sem2.pdf\n",
      " create mode 100644 presentations/nn_inside.pdf\n",
      " create mode 100644 presentations/nn_intro.pdf\n",
      " create mode 100644 presentations/nn_training.pdf\n"
     ]
    }
   ],
   "source": [
    "!git checkout develop && git merge update_readme"
   ]
  },
  {
   "cell_type": "code",
   "execution_count": 14,
   "metadata": {},
   "outputs": [
    {
     "output_type": "stream",
     "name": "stdout",
     "text": [
      "On branch develop\nYour branch is ahead of 'origin/develop' by 33 commits.\n  (use \"git push\" to publish your local commits)\n\nChanges not staged for commit:\n  (use \"git add <file>...\" to update what will be committed)\n  (use \"git restore <file>...\" to discard changes in working directory)\n\t\u001b[31mmodified:   github_hw1.ipynb\u001b[m\n\nno changes added to commit (use \"git add\" and/or \"git commit -a\")\n"
     ]
    }
   ],
   "source": [
    "!git status"
   ]
  },
  {
   "cell_type": "code",
   "execution_count": 17,
   "metadata": {},
   "outputs": [
    {
     "output_type": "error",
     "ename": "SyntaxError",
     "evalue": "invalid syntax (<ipython-input-17-c4abdf455a0c>, line 2)",
     "traceback": [
      "\u001b[0;36m  File \u001b[0;32m\"<ipython-input-17-c4abdf455a0c>\"\u001b[0;36m, line \u001b[0;32m2\u001b[0m\n\u001b[0;31m    git commit -m \"merge devlope with changes from update_readme\"\u001b[0m\n\u001b[0m        ^\u001b[0m\n\u001b[0;31mSyntaxError\u001b[0m\u001b[0;31m:\u001b[0m invalid syntax\n"
     ]
    }
   ],
   "source": [
    "!git add -A \n",
    "!git commit -m \"merge devlope with changes from update_readme\""
   ]
  },
  {
   "cell_type": "code",
   "execution_count": 16,
   "metadata": {},
   "outputs": [
    {
     "output_type": "stream",
     "name": "stdout",
     "text": [
      "error: Your local changes to the following files would be overwritten by checkout:\n\tnotebooks/github_hw1.ipynb\nPlease commit your changes or stash them before you switch branches.\nAborting\n"
     ]
    }
   ],
   "source": [
    "!git checkout main && git merge develop"
   ]
  },
  {
   "cell_type": "code",
   "execution_count": null,
   "metadata": {},
   "outputs": [],
   "source": []
  }
 ],
 "metadata": {
  "kernelspec": {
   "name": "python3",
   "display_name": "Python 3.9.1 64-bit",
   "metadata": {
    "interpreter": {
     "hash": "397704579725e15f5c7cb49fe5f0341eb7531c82d19f2c29d197e8b64ab5776b"
    }
   }
  },
  "language_info": {
   "codemirror_mode": {
    "name": "ipython",
    "version": 3
   },
   "file_extension": ".py",
   "mimetype": "text/x-python",
   "name": "python",
   "nbconvert_exporter": "python",
   "pygments_lexer": "ipython3",
   "version": "3.9.1-final"
  }
 },
 "nbformat": 4,
 "nbformat_minor": 4
}